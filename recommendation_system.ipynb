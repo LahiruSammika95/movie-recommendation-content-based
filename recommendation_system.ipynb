{
  "nbformat": 4,
  "nbformat_minor": 0,
  "metadata": {
    "colab": {
      "name": "recommendation_system.ipynb",
      "provenance": []
    },
    "kernelspec": {
      "name": "python3",
      "display_name": "Python 3"
    },
    "language_info": {
      "name": "python"
    }
  },
  "cells": [
    {
      "cell_type": "code",
      "metadata": {
        "id": "fKWHZu0X_6dN"
      },
      "source": [
        "import pandas as pd\n",
        "import numpy as np\n",
        "from sklearn.feature_extraction.text import CountVectorizer\n",
        "from sklearn.metrics.pairwise import cosine_similarity\n",
        "\n",
        "\n"
      ],
      "execution_count": 265,
      "outputs": []
    },
    {
      "cell_type": "code",
      "metadata": {
        "id": "6awRB1OxjlaP"
      },
      "source": [
        "\n",
        "###### helper functions. Use them when needed #######\n",
        "def get_title_from_index(index):\n",
        "\treturn df[df.index == index][\"title\"].values[0]\n",
        "\n",
        "def get_index_from_title(title):\n",
        "\treturn df[df.title == title][\"index\"].values[0]\n",
        "  # return df[df['title']==title].index.values[0]\n",
        "\n",
        "##################################################"
      ],
      "execution_count": 266,
      "outputs": []
    },
    {
      "cell_type": "code",
      "metadata": {
        "id": "mznJCHWJBJn2"
      },
      "source": [
        "##Step 1: Read CSV File\n",
        "df=pd.read_csv(\"movie_dataset.csv\")\n"
      ],
      "execution_count": 267,
      "outputs": []
    },
    {
      "cell_type": "code",
      "metadata": {
        "id": "9sC2-vv3JoS0"
      },
      "source": [
        "##Step 2: Select Features\n",
        "features=['keywords','cast','genres','director']\n",
        "\n",
        "# This array define for fill the NA values using for loop"
      ],
      "execution_count": 268,
      "outputs": []
    },
    {
      "cell_type": "code",
      "metadata": {
        "id": "5ir3XhOkKGVg"
      },
      "source": [
        "##Step 3: Fill not available values with space\n",
        "for feature in features:\n",
        "  df[feature]=df[feature].fillna('')"
      ],
      "execution_count": 269,
      "outputs": []
    },
    {
      "cell_type": "code",
      "metadata": {
        "colab": {
          "base_uri": "https://localhost:8080/"
        },
        "id": "RYRgv1Z-FvDa",
        "outputId": "5c68ff2c-0fe4-47a3-f037-8ef2d13859e0"
      },
      "source": [
        "##Step 4: Create a new column in DF which combines all selected features\n",
        "def combine_features(row):\n",
        "  try:\n",
        "    return row['keywords']+\" \"+row['cast']+\" \"+row['genres']+\" \"+row['director']\n",
        "  except:\n",
        "    print(\"error occured\")\n",
        "    print(row)\n",
        "# here this combine features method will combine the selected features to an one string\n",
        "\n",
        "df['new_column']=df.apply(combine_features,axis=1)\n",
        "# here axis=1 means along the row\n",
        "df['new_column']\n",
        "\n"
      ],
      "execution_count": 270,
      "outputs": [
        {
          "output_type": "execute_result",
          "data": {
            "text/plain": [
              "0       culture clash future space war space colony so...\n",
              "1       ocean drug abuse exotic island east india trad...\n",
              "2       spy based on novel secret agent sequel mi6 Dan...\n",
              "3       dc comics crime fighter terrorist secret ident...\n",
              "4       based on novel mars medallion space travel pri...\n",
              "                              ...                        \n",
              "4798    united states\\u2013mexico barrier legs arms pa...\n",
              "4799     Edward Burns Kerry Bish\\u00e9 Marsha Dietlein...\n",
              "4800    date love at first sight narration investigati...\n",
              "4801     Daniel Henney Eliza Coupe Bill Paxton Alan Ru...\n",
              "4802    obsession camcorder crush dream girl Drew Barr...\n",
              "Name: new_column, Length: 4803, dtype: object"
            ]
          },
          "metadata": {},
          "execution_count": 270
        }
      ]
    },
    {
      "cell_type": "code",
      "metadata": {
        "id": "OUBCkd3bNEHt"
      },
      "source": [
        "##Step 4: Create count matrix from this new combined column\n",
        "from sklearn.feature_extraction.text import CountVectorizer\n",
        "from sklearn.metrics.pairwise import cosine_similarity\n",
        "\n",
        "cv = CountVectorizer()\n",
        "count_matrix = cv.fit_transform(df['new_column'])\n",
        "\n",
        "# here this function vectorize the strings \n",
        "# After count matrix there will be a matrix like this\n",
        "\n",
        "# \t        out\t of\t  all\tthe\tcountries\tworld\tsome\tare\tpoor\trich\tbut\t no\t country\t\n",
        "\n",
        "# #  M \t 0   9\t  2\t   1\t 2\t   3\t     1\t    2\t   2\t 1\t   1\t   1\t  1\t   1\n",
        "# #  O   1\n",
        "# #  V   2\n",
        "# #  I   3\n",
        "# #  E   4\n",
        "# #  I   5\n",
        "# #  N   6\n",
        "# #  D   7\n",
        "# #  E   8\n",
        "# #  X   9\n"
      ],
      "execution_count": 271,
      "outputs": []
    },
    {
      "cell_type": "code",
      "metadata": {
        "id": "2aOt-oP2Nly1"
      },
      "source": [
        "\n",
        "##Step 5: Compute the Cosine Similarity based on the count_matrix\n",
        "cosine_matrix = cosine_similarity(count_matrix)\n",
        "cosine_matrix\n",
        "\n",
        "# here this function calculate the distance of the count matrix data points using cos angular value.In this case this method is more suitable than euclidean distance\n",
        "# After cosine_similarity there will be a matrix like this\n",
        "#           0    1     2     3     4     5     6     7     8 9 10\n",
        "#  M   0    1   0.45  0.42  0.78  0.72  0.98  0.12  0.89\n",
        "#  O   1\n",
        "#  V   2\n",
        "#  I   3\n",
        "#  E   4\n",
        "#  I   5\n",
        "#  N   6\n",
        "#  D   7\n",
        "#  E   8\n",
        "#  X   9\n",
        "\n",
        "\n",
        "movie_user_likes = \"Transformers: Age of Extinction\"\n"
      ],
      "execution_count": 272,
      "outputs": []
    },
    {
      "cell_type": "code",
      "metadata": {
        "colab": {
          "base_uri": "https://localhost:8080/"
        },
        "id": "bgzkI-7nVYxj",
        "outputId": "fd0813bc-8864-4968-db65-f56b2336fb64"
      },
      "source": [
        "## Step 6: Get index of this movie from its title\n",
        "\n",
        "movie_index = get_index_from_title(movie_user_likes)\n",
        "movie_index\n",
        "# here this finds the index of the selected movie from the dataset\n",
        "\n"
      ],
      "execution_count": 273,
      "outputs": [
        {
          "output_type": "execute_result",
          "data": {
            "text/plain": [
              "36"
            ]
          },
          "metadata": {},
          "execution_count": 273
        }
      ]
    },
    {
      "cell_type": "code",
      "metadata": {
        "id": "6_-iPcOTfYie"
      },
      "source": [
        "# ## Step 7: Get a list of similar movies in descending order of similarity score\n",
        "\n",
        "similar_movies =  list(enumerate(cosine_matrix[movie_index]))\n",
        "\n",
        "# Here this method provides the list of similarity score values of the selected movie.Then these scores put into a tupple using enumerate method.\n",
        "# Then these tuples put into a list usig list function\n",
        "# list of tuples is organized in this way [(0,1),(1,0.56),(2,0.34),(3,0.78).....]\n",
        "\n",
        "#           0    1     2     3     4     5     6     7     8 9 10\n",
        "#  M   0    1   0.45  0.42  0.78  0.72  0.98  0.12  0.89\n",
        "#  O   1\n",
        "#  V   2\n",
        "#  I   3\n",
        "#  E   4\n",
        "#  I   5\n",
        "#  N   6\n",
        "#  D   7\n",
        "#  E   8\n",
        "#  X   9\n",
        "# for each and every movie there is a list of similarity scores.As you can see the 0th indexed movie has 1,0.45,0.42,0.78,..... similarity scores for each movie\n",
        "\n",
        "\n",
        "sorted_similar_movies = sorted(similar_movies,key=lambda x:x[1],reverse=True)\n",
        "\n",
        "# Here the selected list of tuples are sorted in descending order.\n",
        "# Here reverse=true means Descending order\n",
        "# lambda x:x[1] means the 1st index of the tuple. \n",
        "# list of tuples is organized in this way [(0,1),(1,0.45),(2,0.42),(3,0.78).....] 1st index of a tuple means 2nd value of tuple.Here in first tuple it is 1.in second tuple it is 0.45\n",
        "# That means the sorted function will sort the list by considering similarity scores"
      ],
      "execution_count": 274,
      "outputs": []
    },
    {
      "cell_type": "code",
      "metadata": {
        "colab": {
          "base_uri": "https://localhost:8080/"
        },
        "id": "B0gYCfEPfZYn",
        "outputId": "17a24a31-54d8-4f02-bcb8-e4ab5fa48ed2"
      },
      "source": [
        "# ## Step 8: Print titles of first 50 movies\n",
        "\n",
        "i=0\n",
        "for element in sorted_similar_movies:\n",
        "\t\tprint(get_title_from_index(element[0]))\n",
        "\t\ti=i+1\n",
        "\t\tif i>50:\n",
        "\t\t\tbreak"
      ],
      "execution_count": 275,
      "outputs": [
        {
          "output_type": "stream",
          "name": "stdout",
          "text": [
            "Transformers: Age of Extinction\n",
            "Transformers\n",
            "Zathura: A Space Adventure\n",
            "Monsters vs Aliens\n",
            "Pacific Rim\n",
            "The Helix... Loaded\n",
            "Transformers: Dark of the Moon\n",
            "Logan's Run\n",
            "Green Lantern\n",
            "Chappie\n",
            "Transformers: Revenge of the Fallen\n",
            "Alien: Resurrection\n",
            "Planet of the Apes\n",
            "Armageddon\n",
            "The Island\n",
            "The Black Hole\n",
            "The Core\n",
            "Sky Captain and the World of Tomorrow\n",
            "Damnation Alley\n",
            "Terminator Genisys\n",
            "The Time Machine\n",
            "Star Trek Into Darkness\n",
            "Independence Day: Resurgence\n",
            "Megiddo: The Omega Code 2\n",
            "I Am Number Four\n",
            "The Iron Giant\n",
            "Avengers: Age of Ultron\n",
            "Star Trek Beyond\n",
            "Mad Max Beyond Thunderdome\n",
            "Spawn\n",
            "X-Men: First Class\n",
            "Fantastic Four\n",
            "Star Trek: Nemesis\n",
            "Star Wars\n",
            "Stargate: The Ark of Truth\n",
            "Total Recall\n",
            "Prometheus\n",
            "Real Steel\n",
            "Titan A.E.\n",
            "Underworld: Rise of the Lycans\n",
            "Pain & Gain\n",
            "Megaforce\n",
            "U.F.O.\n",
            "Mad Max 2: The Road Warrior\n",
            "Planet 51\n",
            "Teenage Mutant Ninja Turtles II: The Secret of the Ooze\n",
            "The Empire Strikes Back\n",
            "Superman Returns\n",
            "Final Fantasy: The Spirits Within\n",
            "Predator\n",
            "In Too Deep\n"
          ]
        }
      ]
    }
  ]
}